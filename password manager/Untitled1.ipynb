{
 "cells": [
  {
   "cell_type": "code",
   "execution_count": 1,
   "id": "7360e2dd-93b5-4047-9bec-5dd78131c017",
   "metadata": {
    "tags": []
   },
   "outputs": [],
   "source": [
    "from cryptography.fernet import Fernet"
   ]
  },
  {
   "cell_type": "code",
   "execution_count": 2,
   "id": "e518dd47-44e2-427b-ade6-ce5adf0cc28f",
   "metadata": {
    "tags": []
   },
   "outputs": [
    {
     "name": "stdout",
     "output_type": "stream",
     "text": [
      "b'G1K8OnbEroQQ8JzXehIJ4euXMBAeb8AbMKWYpMdh6Hk='\n"
     ]
    }
   ],
   "source": [
    "# class passwordmanager:\n",
    "#     def __init__(self):\n",
    "#         self.key=None\n",
    "#         self.password_file=None\n",
    "#         self.password_dict={}\n",
    "#     def create_key(self, path):\n",
    "#         self.key= Fernet.generate_key()\n",
    "#         print(self.key)\n",
    "        \n",
    "# pm= passwordmanager()\n",
    "# pm.create_key(None)"
   ]
  },
  {
   "cell_type": "code",
   "execution_count": 14,
   "id": "6bec960c-be73-4892-90fe-ba04e648680e",
   "metadata": {
    "tags": []
   },
   "outputs": [
    {
     "name": "stdout",
     "output_type": "stream",
     "text": [
      "what do you want to do?\n",
      "          [1] create a new key\n",
      "          [2] load an existing key\n",
      "          [3] craete a new password file\n",
      "          [4] load existing password file\n",
      "          [5] add anew password\n",
      "          [6] get a password\n",
      "          [q] Quit\n"
     ]
    },
    {
     "name": "stdin",
     "output_type": "stream",
     "text": [
      "enter your choice 2\n",
      "enter path: dusra.key\n",
      "enter your choice 4\n",
      "enter path: dusrifile.pass\n",
      "enter your choice 6\n",
      "what site do you want: email\n"
     ]
    },
    {
     "name": "stdout",
     "output_type": "stream",
     "text": [
      "password for email is 1234567\n"
     ]
    },
    {
     "name": "stdin",
     "output_type": "stream",
     "text": [
      "enter your choice q\n"
     ]
    },
    {
     "name": "stdout",
     "output_type": "stream",
     "text": [
      "thank you! please visit again\n"
     ]
    }
   ],
   "source": [
    "from cryptography.fernet import Fernet\n",
    "class passwordmanager:\n",
    "    def __init__(self):\n",
    "        self.key=None\n",
    "        self.password_file=None\n",
    "        self.password_dict={}\n",
    "    def create_key(self, path):\n",
    "        self.key= Fernet.generate_key()\n",
    "        with open(path, 'wb') as f:\n",
    "            f.write(self.key)\n",
    "            \n",
    "    def load_key(self, path):\n",
    "        with open(path, 'rb')as f:\n",
    "            self.key=f.read()\n",
    "        \n",
    "    def create_password_file(self, path, initial_values=None):\n",
    "        self.password_file = path\n",
    "        \n",
    "        if initial_values is not None:\n",
    "            for key, value in initial_values.items():\n",
    "                self.add_password(key, value)\n",
    "                \n",
    "    def load_password_file(self, path):\n",
    "        self.password_file= path\n",
    "        with open(path, 'r')as f:\n",
    "            for line in f:\n",
    "                site, encrypted = line.split(\":\")\n",
    "                self.password_dict[site] = Fernet(self.key).decrypt(encrypted.encode()).decode()\n",
    "                \n",
    "    def add_password(self, site, password):\n",
    "        self.password_dict[site]= password\n",
    "        \n",
    "        if self.password_file is not None:\n",
    "            with open(self.password_file, 'a+') as f:\n",
    "                encrypted = Fernet(self.key).encrypt(password.encode())\n",
    "                f.write(site + \":\" + encrypted.decode() + \"\\n\")\n",
    "          \n",
    "    def get_password(self, site):\n",
    "        return self.password_dict[site]\n",
    "    \n",
    "    \n",
    "def main():\n",
    "    password={\"email\":\"1234567\",\n",
    "             \"facebook\":\"myfacebook\",\n",
    "             \"google\":\"mygoogle\",\n",
    "             \"python\":\"helloworld\"}\n",
    "    pm= passwordmanager()\n",
    "    \n",
    "    print(\"\"\"what do you want to do?\n",
    "          [1] create a new key\n",
    "          [2] load an existing key\n",
    "          [3] craete a new password file\n",
    "          [4] load existing password file\n",
    "          [5] add anew password\n",
    "          [6] get a password\n",
    "          [q] Quit\"\"\")\n",
    "    done = False\n",
    "    while not done:\n",
    "        choice= input(\"enter your choice\")\n",
    "        if choice == '1':\n",
    "            path = input(\"enter path:\")\n",
    "            pm.create_key(path)\n",
    "        elif choice == '2': \n",
    "            path = input(\"enter path:\")\n",
    "            pm.load_key(path)\n",
    "    \n",
    "        elif choice == '3': \n",
    "            path = input(\"enter path:\")\n",
    "            pm.create_password_file(path, password)\n",
    "        \n",
    "        elif choice == '4': \n",
    "            path = input(\"enter path:\")\n",
    "            pm.load_password_file(path)\n",
    "            \n",
    "        elif choice == '5': \n",
    "            site = input(\"enter the site:\")\n",
    "            password= input(\"enter the password:\")\n",
    "            pm.add_password(site, password)\n",
    "            \n",
    "        elif choice == '6':\n",
    "            site = input(\"what site do you want:\")\n",
    "            print(f\"password for {site} is {pm.get_password(site)}\")\n",
    "            \n",
    "        elif choice == 'q':\n",
    "            done = True\n",
    "            print(\"thank you! please visit again\")\n",
    "            \n",
    "        else:\n",
    "            print(\"invalid choice!\")\n",
    "            \n",
    "if __name__ == \"__main__\" :\n",
    "    main()\n"
   ]
  },
  {
   "cell_type": "code",
   "execution_count": null,
   "id": "ca401f7b-db3c-4b52-a1a7-806bb792833d",
   "metadata": {},
   "outputs": [],
   "source": []
  }
 ],
 "metadata": {
  "kernelspec": {
   "display_name": "Python 3 (ipykernel)",
   "language": "python",
   "name": "python3"
  },
  "language_info": {
   "codemirror_mode": {
    "name": "ipython",
    "version": 3
   },
   "file_extension": ".py",
   "mimetype": "text/x-python",
   "name": "python",
   "nbconvert_exporter": "python",
   "pygments_lexer": "ipython3",
   "version": "3.10.4"
  }
 },
 "nbformat": 4,
 "nbformat_minor": 5
}
